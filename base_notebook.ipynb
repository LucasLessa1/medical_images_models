{
 "cells": [
  {
   "cell_type": "markdown",
   "metadata": {},
   "source": [
    "## Skin Lesions Dataset Description\n",
    "\n",
    "The dataset comprises various types of skin lesions, each falling under specific categories:\n",
    "\n",
    "- **Actinic Keratoses and Intraepithelial Carcinoma / Bowen's Disease (AKIEC)**\n",
    "- **Basal Cell Carcinoma (BCC)**\n",
    "- **Benign Keratosis-like Lesions**:\n",
    "  - *Solar Lentigines*\n",
    "  - *Seborrheic Keratoses*\n",
    "  - *Lichen-Planus like Keratoses (BKL)*\n",
    "- **Dermatofibroma (DF)**\n",
    "- **Melanoma (MEL)**\n",
    "- **Melanocytic Nevi (NV)**\n",
    "- **Vascular Lesions**:\n",
    "  - *Angiomas*\n",
    "  - *Angiokeratomas*\n",
    "  - *Pyogenic Granulomas*\n",
    "  - *Hemorrhage (VASC)*\n",
    "\n",
    "**Diagnosis Confirmation:**\n",
    "\n",
    "- Over 50% of lesions in this dataset are confirmed through **histopathology (Histo)**, serving as the ground truth for these cases.\n",
    "- For the remaining cases, confirmation methods include:\n",
    "  - *Follow-up examination (Follow_Up)*\n",
    "  - *Expert Consensus (Consensus)*\n",
    "  - *Confirmation by In-Vivo Confocal Microscopy (Confocal)*\n",
    "\n",
    "Each lesion might have multiple associated images, allowing for tracking via the `lesion_id` column within the `HAM10000_metadata` file.\n",
    "\n",
    "This diverse dataset contains various types of skin lesions, each categorized and confirmed through different diagnostic approaches, contributing to a comprehensive resource for research and analysis.\n"
   ]
  },
  {
   "cell_type": "code",
   "execution_count": 1,
   "metadata": {},
   "outputs": [],
   "source": [
    "labels_dict = {\n",
    "    'akiec': \"Actinic Keratoses and Intraepithelial Carcinoma / Bowen's Disease (AKIEC)\",\n",
    "    'bcc': \"Basal Cell Carcinoma (BCC)\",\n",
    "    'bkl': \"Benign Keratosis-like Lesions\",\n",
    "    'df': \"Dermatofibroma (DF)\",\n",
    "    'mel': \"Melanoma (MEL)\",\n",
    "    'nv': \"Melanocytic Nevi (NV)\",\n",
    "    'vasc': \"Vascular Lesions\",\n",
    "    'histo': \"Confirmed through Histopathology (Histo)\",\n",
    "    'follow_up': \"Follow-up examination (Follow_Up)\",\n",
    "    'consensus': \"Expert Consensus (Consensus)\",\n",
    "    'confocal': \"Confirmation by In-Vivo Confocal Microscopy (Confocal)\"\n",
    "}\n"
   ]
  },
  {
   "cell_type": "code",
   "execution_count": 2,
   "metadata": {},
   "outputs": [],
   "source": [
    "labels = ['akiec', 'bcc', 'bkl', 'df', 'mel', 'nv', 'vasc']"
   ]
  },
  {
   "cell_type": "markdown",
   "metadata": {},
   "source": [
    "# Imports"
   ]
  },
  {
   "cell_type": "code",
   "execution_count": 3,
   "metadata": {},
   "outputs": [],
   "source": [
    "import os  \n",
    "import glob\n",
    "import sklearn\n",
    "from sklearn.model_selection import train_test_split\n",
    "import pandas as pd\n",
    "from sklearn.metrics import accuracy_score, precision_score, recall_score, f1_score, confusion_matrix\n",
    "from sklearn.metrics import multilabel_confusion_matrix\n",
    "\n",
    "\n",
    "import PIL \n",
    "import random\n",
    "import numpy as np\n",
    "import matplotlib.pyplot as plt \n",
    "\n",
    "from tool_preprocessing import *\n",
    "# from models import *\n",
    "# import torch\n",
    "# import torch.nn as nn\n",
    "# import torchvision.models as models\n",
    "# from efficientnet_pytorch import EfficientNet\n",
    "# from torchinfo import summary \n",
    "\n",
    "# import torch.optim as optim\n",
    "# from IPython.display import Image\n",
    "# from torch.utils.data import DataLoader, Dataset\n",
    "\n",
    "# from torchvision.datasets import ImageFolder\n",
    "# from torchvision.transforms import transforms\n",
    "# import torch.nn.functional as F\n",
    "\n",
    "# import pydicom\n",
    "# from PIL import Image\n",
    "\n",
    "# import cv2"
   ]
  },
  {
   "cell_type": "markdown",
   "metadata": {},
   "source": [
    "# Preprocessing"
   ]
  },
  {
   "cell_type": "markdown",
   "metadata": {},
   "source": [
    "In this notebook, labels are initially considered as categorical."
   ]
  },
  {
   "cell_type": "markdown",
   "metadata": {},
   "source": [
    "## Manual Part"
   ]
  },
  {
   "cell_type": "markdown",
   "metadata": {},
   "source": [
    "If the images are organized in the folders of each label, the following flag must be True"
   ]
  },
  {
   "cell_type": "code",
   "execution_count": 20,
   "metadata": {},
   "outputs": [],
   "source": [
    "flag_folder_sep = False"
   ]
  },
  {
   "cell_type": "code",
   "execution_count": 21,
   "metadata": {},
   "outputs": [],
   "source": [
    "# base_path = 'C:/Users/lucas/OneDrive - unb.br/Documents/UnB/Semestres-ENE/TCC/COVID_Dataset_original'\n",
    "base_path = 'C:/Users/lucas/OneDrive - unb.br/Documents/UnB/Semestres-ENE/TCC/The HAM10000 dataset'"
   ]
  },
  {
   "cell_type": "code",
   "execution_count": 22,
   "metadata": {},
   "outputs": [],
   "source": [
    "if flag_folder_sep :\n",
    "    label_column = 'label'\n",
    "    train_df, test_df, val_df  = make_dataset_by_folder(base_path=base_path, label_column=label_column)\n",
    "\n",
    "else:\n",
    "    \n",
    "    path_train_df = f'{base_path}/HAM10000_metadata'\n",
    "    path_test_df = f'{base_path}/test.csv'\n",
    "    \n",
    "    path_train = f\"{base_path}/treino\"\n",
    "    path_test = f\"{base_path}/test\"\n",
    "    \n",
    "    paths_image = [path_train, path_test]\n",
    "    paths_df = [path_train_df, path_test_df]\n",
    "    label_column = 'dx'\n",
    "    \n",
    "    train_df, test_df, val_df = make_dataset_by_df(paths_image, paths_df, label_column=label_column)\n",
    "    \n",
    "    "
   ]
  },
  {
   "cell_type": "markdown",
   "metadata": {},
   "source": [
    "## Analysis"
   ]
  },
  {
   "cell_type": "markdown",
   "metadata": {},
   "source": [
    "### Train"
   ]
  },
  {
   "cell_type": "code",
   "execution_count": 23,
   "metadata": {},
   "outputs": [],
   "source": [
    "# image_analysis_train = image_analysis(train_df)"
   ]
  },
  {
   "cell_type": "markdown",
   "metadata": {},
   "source": [
    "Smallest pixel value: 0\n",
    "\n",
    "Largest pixel value: 255\n",
    "\n",
    "Total images processed: 10015\n",
    "\n",
    "Channel Statistics:\n",
    "Channel 'R':\n",
    "  - Average: 194.6979202056175\n",
    "  - Standard Deviation: 22.85509458222392\n",
    "Channel 'G':\n",
    "  - Average: 139.26262746509866\n",
    "  - Standard Deviation: 30.1684115555478\n",
    "Channel 'B':\n",
    "  - Average: 145.4852413568536\n",
    "  - Standard Deviation: 33.90319049131724"
   ]
  },
  {
   "cell_type": "code",
   "execution_count": 24,
   "metadata": {},
   "outputs": [],
   "source": [
    "train_df = check_images_existence(train_df, path_column='path')"
   ]
  },
  {
   "cell_type": "code",
   "execution_count": 25,
   "metadata": {},
   "outputs": [
    {
     "name": "stdout",
     "output_type": "stream",
     "text": [
      "Total number of images: 9010\n",
      "Number of unique labels: 7\n",
      "Label 'nv' has 6034 images.\n",
      "Label 'mel' has 1001 images.\n",
      "Label 'bkl' has 989 images.\n",
      "Label 'bcc' has 462 images.\n",
      "Label 'akiec' has 294 images.\n",
      "Label 'vasc' has 127 images.\n",
      "Label 'df' has 103 images.\n"
     ]
    }
   ],
   "source": [
    "dict_df_train = get_label_counts_and_print(train_df, label_column=label_column)\n",
    "# shapes_train = analyze_image_shapes(train_df, min_shape=(800, 800), path_column='path')"
   ]
  },
  {
   "cell_type": "markdown",
   "metadata": {},
   "source": [
    "### Test"
   ]
  },
  {
   "cell_type": "code",
   "execution_count": 26,
   "metadata": {},
   "outputs": [],
   "source": [
    "# image_analysis_test = image_analysis(test_df)"
   ]
  },
  {
   "cell_type": "markdown",
   "metadata": {},
   "source": [
    "Smallest pixel value: 0\n",
    "\n",
    "Largest pixel value: 255\n",
    "\n",
    "Total images processed: 1511\n",
    "\n",
    "Channel Statistics:\n",
    "Channel 'R':\n",
    "  - Average: 193.96235187636344\n",
    "  - Standard Deviation: 24.606448726550262\n",
    "Channel 'G':\n",
    "  - Average: 141.7550379243572\n",
    "  - Standard Deviation: 31.9625774054364\n",
    "Channel 'B':\n",
    "  - Average: 147.87214814814814\n",
    "  - Standard Deviation: 35.78649271231254"
   ]
  },
  {
   "cell_type": "code",
   "execution_count": 27,
   "metadata": {},
   "outputs": [
    {
     "name": "stdout",
     "output_type": "stream",
     "text": [
      "Image not found in folder: None\n",
      "Removed lines:\n",
      "lesion_id       HAMTEST_0000496\n",
      "image_id           ISIC_0035068\n",
      "dx                           nv\n",
      "dx_type               consensus\n",
      "age                         NaN\n",
      "sex                         NaN\n",
      "localization                NaN\n",
      "dataset                     NaN\n",
      "path                       None\n",
      "Name: 534, dtype: object\n"
     ]
    }
   ],
   "source": [
    "test_df = check_images_existence(test_df, path_column='path')"
   ]
  },
  {
   "cell_type": "code",
   "execution_count": 28,
   "metadata": {},
   "outputs": [
    {
     "name": "stdout",
     "output_type": "stream",
     "text": [
      "Total number of images: 1511\n",
      "Number of unique labels: 7\n",
      "Label 'nv' has 908 images.\n",
      "Label 'bkl' has 217 images.\n",
      "Label 'mel' has 171 images.\n",
      "Label 'bcc' has 93 images.\n",
      "Label 'df' has 44 images.\n",
      "Label 'akiec' has 43 images.\n",
      "Label 'vasc' has 35 images.\n"
     ]
    },
    {
     "name": "stdout",
     "output_type": "stream",
     "text": [
      "Average image shape - Height: 450.0, Width: 600.0\n",
      "Number of images with shape smaller than (461, 601): 1511\n"
     ]
    }
   ],
   "source": [
    "dict_df_test = get_label_counts_and_print(test_df, label_column=label_column)\n",
    "# shapes_test = analyze_image_shapes(test_df, min_shape=(461, 601), path_column='path')"
   ]
  },
  {
   "cell_type": "markdown",
   "metadata": {},
   "source": [
    "### Validation"
   ]
  },
  {
   "cell_type": "code",
   "execution_count": 29,
   "metadata": {},
   "outputs": [],
   "source": [
    "# image_analysis_val = image_analysis(val_df)"
   ]
  },
  {
   "cell_type": "markdown",
   "metadata": {},
   "source": [
    "Smallest pixel value: 0\n",
    "\n",
    "Largest pixel value: 255\n",
    "\n",
    "Total images processed: 1005\n",
    "\n",
    "Channel Statistics:\n",
    "Channel 'R':\n",
    "  - Average: 194.84180818500093\n",
    "  - Standard Deviation: 23.428856516708883\n",
    "Channel 'G':\n",
    "  - Average: 139.9250088557214\n",
    "  - Standard Deviation: 30.539483110296192\n",
    "Channel 'B':\n",
    "  - Average: 146.21765087525336\n",
    "  - Standard Deviation: 34.290640143609394"
   ]
  },
  {
   "cell_type": "code",
   "execution_count": 30,
   "metadata": {},
   "outputs": [],
   "source": [
    "val_df = check_images_existence(val_df, path_column='path')"
   ]
  },
  {
   "cell_type": "code",
   "execution_count": 31,
   "metadata": {},
   "outputs": [
    {
     "name": "stdout",
     "output_type": "stream",
     "text": [
      "Total number of images: 1005\n",
      "Number of unique labels: 7\n",
      "Label 'nv' has 671 images.\n",
      "Label 'mel' has 112 images.\n",
      "Label 'bkl' has 110 images.\n",
      "Label 'bcc' has 52 images.\n",
      "Label 'akiec' has 33 images.\n",
      "Label 'vasc' has 15 images.\n",
      "Label 'df' has 12 images.\n",
      "Average image shape - Height: 450.0, Width: 600.0\n",
      "Number of images with shape smaller than (461, 601): 1005\n"
     ]
    }
   ],
   "source": [
    "dict_df_val = get_label_counts_and_print(val_df, label_column=label_column)\n",
    "# shapes_val = analyze_image_shapes(val_df, min_shape=(461, 601), path_column='path')"
   ]
  },
  {
   "cell_type": "markdown",
   "metadata": {},
   "source": [
    "## Model Preparation"
   ]
  },
  {
   "cell_type": "code",
   "execution_count": null,
   "metadata": {},
   "outputs": [],
   "source": [
    "from model_processing import *"
   ]
  },
  {
   "cell_type": "markdown",
   "metadata": {},
   "source": [
    "Passar de categorial para binário "
   ]
  },
  {
   "cell_type": "markdown",
   "metadata": {},
   "source": [
    "Pesos para a loss"
   ]
  },
  {
   "cell_type": "code",
   "execution_count": null,
   "metadata": {},
   "outputs": [],
   "source": [
    "def labels2dict(dataframe, label_column):\n",
    "    labels = (train_df[label_column].unique())\n",
    "    labels_dict = {}\n",
    "    for index, label in enumerate(labels):\n",
    "        labels_dict[label] = index\n",
    "        \n",
    "    labels_dict"
   ]
  },
  {
   "cell_type": "code",
   "execution_count": 46,
   "metadata": {},
   "outputs": [
    {
     "data": {
      "text/plain": [
       "{'nv': 0, 'mel': 1, 'bkl': 2, 'bcc': 3, 'akiec': 4, 'vasc': 5, 'df': 6}"
      ]
     },
     "execution_count": 46,
     "metadata": {},
     "output_type": "execute_result"
    }
   ],
   "source": [
    "labels = (train_df[label_column].unique())\n",
    "labels_dict = {}\n",
    "for index, label in enumerate(labels):\n",
    "    labels_dict[label] = index\n",
    "    \n",
    "labels_dict"
   ]
  },
  {
   "cell_type": "code",
   "execution_count": 47,
   "metadata": {},
   "outputs": [
    {
     "data": {
      "text/html": [
       "<div>\n",
       "<style scoped>\n",
       "    .dataframe tbody tr th:only-of-type {\n",
       "        vertical-align: middle;\n",
       "    }\n",
       "\n",
       "    .dataframe tbody tr th {\n",
       "        vertical-align: top;\n",
       "    }\n",
       "\n",
       "    .dataframe thead th {\n",
       "        text-align: right;\n",
       "    }\n",
       "</style>\n",
       "<table border=\"1\" class=\"dataframe\">\n",
       "  <thead>\n",
       "    <tr style=\"text-align: right;\">\n",
       "      <th></th>\n",
       "      <th>lesion_id</th>\n",
       "      <th>image_id</th>\n",
       "      <th>dx</th>\n",
       "      <th>dx_type</th>\n",
       "      <th>age</th>\n",
       "      <th>sex</th>\n",
       "      <th>localization</th>\n",
       "      <th>dataset</th>\n",
       "      <th>path</th>\n",
       "    </tr>\n",
       "  </thead>\n",
       "  <tbody>\n",
       "    <tr>\n",
       "      <th>0</th>\n",
       "      <td>HAMTEST_0000000</td>\n",
       "      <td>ISIC_0034524</td>\n",
       "      <td>nv</td>\n",
       "      <td>follow_up</td>\n",
       "      <td>40.0</td>\n",
       "      <td>female</td>\n",
       "      <td>back</td>\n",
       "      <td>vidir_molemax</td>\n",
       "      <td>C:/Users/lucas/OneDrive - unb.br/Documents/UnB...</td>\n",
       "    </tr>\n",
       "    <tr>\n",
       "      <th>1</th>\n",
       "      <td>HAMTEST_0000001</td>\n",
       "      <td>ISIC_0034525</td>\n",
       "      <td>nv</td>\n",
       "      <td>histo</td>\n",
       "      <td>70.0</td>\n",
       "      <td>male</td>\n",
       "      <td>abdomen</td>\n",
       "      <td>rosendahl</td>\n",
       "      <td>C:/Users/lucas/OneDrive - unb.br/Documents/UnB...</td>\n",
       "    </tr>\n",
       "    <tr>\n",
       "      <th>2</th>\n",
       "      <td>HAMTEST_0000002</td>\n",
       "      <td>ISIC_0034526</td>\n",
       "      <td>bkl</td>\n",
       "      <td>histo</td>\n",
       "      <td>70.0</td>\n",
       "      <td>male</td>\n",
       "      <td>back</td>\n",
       "      <td>rosendahl</td>\n",
       "      <td>C:/Users/lucas/OneDrive - unb.br/Documents/UnB...</td>\n",
       "    </tr>\n",
       "    <tr>\n",
       "      <th>3</th>\n",
       "      <td>HAMTEST_0000003</td>\n",
       "      <td>ISIC_0034527</td>\n",
       "      <td>nv</td>\n",
       "      <td>histo</td>\n",
       "      <td>35.0</td>\n",
       "      <td>male</td>\n",
       "      <td>trunk</td>\n",
       "      <td>vienna_dias</td>\n",
       "      <td>C:/Users/lucas/OneDrive - unb.br/Documents/UnB...</td>\n",
       "    </tr>\n",
       "    <tr>\n",
       "      <th>4</th>\n",
       "      <td>HAMTEST_0000004</td>\n",
       "      <td>ISIC_0034528</td>\n",
       "      <td>nv</td>\n",
       "      <td>follow_up</td>\n",
       "      <td>75.0</td>\n",
       "      <td>female</td>\n",
       "      <td>trunk</td>\n",
       "      <td>vidir_molemax</td>\n",
       "      <td>C:/Users/lucas/OneDrive - unb.br/Documents/UnB...</td>\n",
       "    </tr>\n",
       "  </tbody>\n",
       "</table>\n",
       "</div>"
      ],
      "text/plain": [
       "         lesion_id      image_id   dx    dx_type   age     sex localization  \\\n",
       "0  HAMTEST_0000000  ISIC_0034524   nv  follow_up  40.0  female         back   \n",
       "1  HAMTEST_0000001  ISIC_0034525   nv      histo  70.0    male      abdomen   \n",
       "2  HAMTEST_0000002  ISIC_0034526  bkl      histo  70.0    male         back   \n",
       "3  HAMTEST_0000003  ISIC_0034527   nv      histo  35.0    male        trunk   \n",
       "4  HAMTEST_0000004  ISIC_0034528   nv  follow_up  75.0  female        trunk   \n",
       "\n",
       "         dataset                                               path  \n",
       "0  vidir_molemax  C:/Users/lucas/OneDrive - unb.br/Documents/UnB...  \n",
       "1      rosendahl  C:/Users/lucas/OneDrive - unb.br/Documents/UnB...  \n",
       "2      rosendahl  C:/Users/lucas/OneDrive - unb.br/Documents/UnB...  \n",
       "3    vienna_dias  C:/Users/lucas/OneDrive - unb.br/Documents/UnB...  \n",
       "4  vidir_molemax  C:/Users/lucas/OneDrive - unb.br/Documents/UnB...  "
      ]
     },
     "execution_count": 47,
     "metadata": {},
     "output_type": "execute_result"
    }
   ],
   "source": [
    "test_df.head()"
   ]
  },
  {
   "cell_type": "code",
   "execution_count": null,
   "metadata": {},
   "outputs": [],
   "source": [
    "[labels_dict[item] if item in labels_dict else item for item in list(train_df[label_column])]"
   ]
  },
  {
   "cell_type": "code",
   "execution_count": 57,
   "metadata": {},
   "outputs": [],
   "source": [
    "def categorial2number(dataframe, labels_dict, label_column):\n",
    "    label_dataframe = [labels_dict[item] if item in labels_dict else item for item in list(dataframe[label_column])]\n",
    "    return label_dataframe\n"
   ]
  },
  {
   "cell_type": "code",
   "execution_count": 58,
   "metadata": {},
   "outputs": [],
   "source": [
    "def dflabel2number(df_lists, labels_dict, label_column):\n",
    "    df1 = categorial2number(df_lists[0], labels_dict, label_column)\n",
    "    df2 = categorial2number(df_lists[1], labels_dict, label_column)\n",
    "    df3 = categorial2number(df_lists[2], labels_dict, label_column)\n",
    "\n",
    "    return df1, df2, df3"
   ]
  },
  {
   "cell_type": "code",
   "execution_count": 59,
   "metadata": {},
   "outputs": [],
   "source": [
    "train_label, test_label, val_label = dflabel2number([train_df, test_df, val_df], labels_dict, label_column)"
   ]
  },
  {
   "cell_type": "code",
   "execution_count": 62,
   "metadata": {},
   "outputs": [
    {
     "data": {
      "text/plain": [
       "{'nv': 0, 'mel': 1, 'bkl': 2, 'bcc': 3, 'akiec': 4, 'vasc': 5, 'df': 6}"
      ]
     },
     "execution_count": 62,
     "metadata": {},
     "output_type": "execute_result"
    }
   ],
   "source": [
    "labels_dict"
   ]
  },
  {
   "cell_type": "code",
   "execution_count": 61,
   "metadata": {},
   "outputs": [
    {
     "data": {
      "text/html": [
       "<div>\n",
       "<style scoped>\n",
       "    .dataframe tbody tr th:only-of-type {\n",
       "        vertical-align: middle;\n",
       "    }\n",
       "\n",
       "    .dataframe tbody tr th {\n",
       "        vertical-align: top;\n",
       "    }\n",
       "\n",
       "    .dataframe thead th {\n",
       "        text-align: right;\n",
       "    }\n",
       "</style>\n",
       "<table border=\"1\" class=\"dataframe\">\n",
       "  <thead>\n",
       "    <tr style=\"text-align: right;\">\n",
       "      <th></th>\n",
       "      <th>lesion_id</th>\n",
       "      <th>image_id</th>\n",
       "      <th>dx</th>\n",
       "      <th>dx_type</th>\n",
       "      <th>age</th>\n",
       "      <th>sex</th>\n",
       "      <th>localization</th>\n",
       "      <th>dataset</th>\n",
       "      <th>path</th>\n",
       "    </tr>\n",
       "  </thead>\n",
       "  <tbody>\n",
       "    <tr>\n",
       "      <th>1995</th>\n",
       "      <td>HAM_0000466</td>\n",
       "      <td>ISIC_0027749</td>\n",
       "      <td>nv</td>\n",
       "      <td>follow_up</td>\n",
       "      <td>45.0</td>\n",
       "      <td>female</td>\n",
       "      <td>lower extremity</td>\n",
       "      <td>vidir_molemax</td>\n",
       "      <td>C:/Users/lucas/OneDrive - unb.br/Documents/UnB...</td>\n",
       "    </tr>\n",
       "    <tr>\n",
       "      <th>2102</th>\n",
       "      <td>HAM_0000690</td>\n",
       "      <td>ISIC_0030182</td>\n",
       "      <td>nv</td>\n",
       "      <td>consensus</td>\n",
       "      <td>30.0</td>\n",
       "      <td>female</td>\n",
       "      <td>back</td>\n",
       "      <td>vidir_modern</td>\n",
       "      <td>C:/Users/lucas/OneDrive - unb.br/Documents/UnB...</td>\n",
       "    </tr>\n",
       "    <tr>\n",
       "      <th>3489</th>\n",
       "      <td>HAM_0005306</td>\n",
       "      <td>ISIC_0027056</td>\n",
       "      <td>nv</td>\n",
       "      <td>follow_up</td>\n",
       "      <td>60.0</td>\n",
       "      <td>male</td>\n",
       "      <td>back</td>\n",
       "      <td>vidir_molemax</td>\n",
       "      <td>C:/Users/lucas/OneDrive - unb.br/Documents/UnB...</td>\n",
       "    </tr>\n",
       "    <tr>\n",
       "      <th>2705</th>\n",
       "      <td>HAM_0003201</td>\n",
       "      <td>ISIC_0030386</td>\n",
       "      <td>nv</td>\n",
       "      <td>follow_up</td>\n",
       "      <td>50.0</td>\n",
       "      <td>female</td>\n",
       "      <td>trunk</td>\n",
       "      <td>vidir_molemax</td>\n",
       "      <td>C:/Users/lucas/OneDrive - unb.br/Documents/UnB...</td>\n",
       "    </tr>\n",
       "    <tr>\n",
       "      <th>7032</th>\n",
       "      <td>HAM_0006383</td>\n",
       "      <td>ISIC_0025183</td>\n",
       "      <td>nv</td>\n",
       "      <td>follow_up</td>\n",
       "      <td>75.0</td>\n",
       "      <td>female</td>\n",
       "      <td>trunk</td>\n",
       "      <td>vidir_molemax</td>\n",
       "      <td>C:/Users/lucas/OneDrive - unb.br/Documents/UnB...</td>\n",
       "    </tr>\n",
       "    <tr>\n",
       "      <th>...</th>\n",
       "      <td>...</td>\n",
       "      <td>...</td>\n",
       "      <td>...</td>\n",
       "      <td>...</td>\n",
       "      <td>...</td>\n",
       "      <td>...</td>\n",
       "      <td>...</td>\n",
       "      <td>...</td>\n",
       "      <td>...</td>\n",
       "    </tr>\n",
       "    <tr>\n",
       "      <th>9090</th>\n",
       "      <td>HAM_0003555</td>\n",
       "      <td>ISIC_0030321</td>\n",
       "      <td>df</td>\n",
       "      <td>histo</td>\n",
       "      <td>30.0</td>\n",
       "      <td>male</td>\n",
       "      <td>upper extremity</td>\n",
       "      <td>rosendahl</td>\n",
       "      <td>C:/Users/lucas/OneDrive - unb.br/Documents/UnB...</td>\n",
       "    </tr>\n",
       "    <tr>\n",
       "      <th>948</th>\n",
       "      <td>HAM_0004317</td>\n",
       "      <td>ISIC_0025504</td>\n",
       "      <td>df</td>\n",
       "      <td>histo</td>\n",
       "      <td>50.0</td>\n",
       "      <td>female</td>\n",
       "      <td>lower extremity</td>\n",
       "      <td>rosendahl</td>\n",
       "      <td>C:/Users/lucas/OneDrive - unb.br/Documents/UnB...</td>\n",
       "    </tr>\n",
       "    <tr>\n",
       "      <th>7594</th>\n",
       "      <td>HAM_0006371</td>\n",
       "      <td>ISIC_0033780</td>\n",
       "      <td>df</td>\n",
       "      <td>consensus</td>\n",
       "      <td>35.0</td>\n",
       "      <td>female</td>\n",
       "      <td>lower extremity</td>\n",
       "      <td>vidir_modern</td>\n",
       "      <td>C:/Users/lucas/OneDrive - unb.br/Documents/UnB...</td>\n",
       "    </tr>\n",
       "    <tr>\n",
       "      <th>3862</th>\n",
       "      <td>HAM_0004103</td>\n",
       "      <td>ISIC_0028880</td>\n",
       "      <td>df</td>\n",
       "      <td>histo</td>\n",
       "      <td>55.0</td>\n",
       "      <td>male</td>\n",
       "      <td>lower extremity</td>\n",
       "      <td>vidir_modern</td>\n",
       "      <td>C:/Users/lucas/OneDrive - unb.br/Documents/UnB...</td>\n",
       "    </tr>\n",
       "    <tr>\n",
       "      <th>8606</th>\n",
       "      <td>HAM_0004103</td>\n",
       "      <td>ISIC_0031309</td>\n",
       "      <td>df</td>\n",
       "      <td>histo</td>\n",
       "      <td>55.0</td>\n",
       "      <td>male</td>\n",
       "      <td>lower extremity</td>\n",
       "      <td>vidir_modern</td>\n",
       "      <td>C:/Users/lucas/OneDrive - unb.br/Documents/UnB...</td>\n",
       "    </tr>\n",
       "  </tbody>\n",
       "</table>\n",
       "<p>9010 rows × 9 columns</p>\n",
       "</div>"
      ],
      "text/plain": [
       "        lesion_id      image_id  dx    dx_type   age     sex     localization  \\\n",
       "1995  HAM_0000466  ISIC_0027749  nv  follow_up  45.0  female  lower extremity   \n",
       "2102  HAM_0000690  ISIC_0030182  nv  consensus  30.0  female             back   \n",
       "3489  HAM_0005306  ISIC_0027056  nv  follow_up  60.0    male             back   \n",
       "2705  HAM_0003201  ISIC_0030386  nv  follow_up  50.0  female            trunk   \n",
       "7032  HAM_0006383  ISIC_0025183  nv  follow_up  75.0  female            trunk   \n",
       "...           ...           ...  ..        ...   ...     ...              ...   \n",
       "9090  HAM_0003555  ISIC_0030321  df      histo  30.0    male  upper extremity   \n",
       "948   HAM_0004317  ISIC_0025504  df      histo  50.0  female  lower extremity   \n",
       "7594  HAM_0006371  ISIC_0033780  df  consensus  35.0  female  lower extremity   \n",
       "3862  HAM_0004103  ISIC_0028880  df      histo  55.0    male  lower extremity   \n",
       "8606  HAM_0004103  ISIC_0031309  df      histo  55.0    male  lower extremity   \n",
       "\n",
       "            dataset                                               path  \n",
       "1995  vidir_molemax  C:/Users/lucas/OneDrive - unb.br/Documents/UnB...  \n",
       "2102   vidir_modern  C:/Users/lucas/OneDrive - unb.br/Documents/UnB...  \n",
       "3489  vidir_molemax  C:/Users/lucas/OneDrive - unb.br/Documents/UnB...  \n",
       "2705  vidir_molemax  C:/Users/lucas/OneDrive - unb.br/Documents/UnB...  \n",
       "7032  vidir_molemax  C:/Users/lucas/OneDrive - unb.br/Documents/UnB...  \n",
       "...             ...                                                ...  \n",
       "9090      rosendahl  C:/Users/lucas/OneDrive - unb.br/Documents/UnB...  \n",
       "948       rosendahl  C:/Users/lucas/OneDrive - unb.br/Documents/UnB...  \n",
       "7594   vidir_modern  C:/Users/lucas/OneDrive - unb.br/Documents/UnB...  \n",
       "3862   vidir_modern  C:/Users/lucas/OneDrive - unb.br/Documents/UnB...  \n",
       "8606   vidir_modern  C:/Users/lucas/OneDrive - unb.br/Documents/UnB...  \n",
       "\n",
       "[9010 rows x 9 columns]"
      ]
     },
     "execution_count": 61,
     "metadata": {},
     "output_type": "execute_result"
    }
   ],
   "source": [
    "train_df"
   ]
  }
 ],
 "metadata": {
  "kernelspec": {
   "display_name": "base",
   "language": "python",
   "name": "python3"
  },
  "language_info": {
   "codemirror_mode": {
    "name": "ipython",
    "version": 3
   },
   "file_extension": ".py",
   "mimetype": "text/x-python",
   "name": "python",
   "nbconvert_exporter": "python",
   "pygments_lexer": "ipython3",
   "version": "3.9.12"
  }
 },
 "nbformat": 4,
 "nbformat_minor": 2
}
