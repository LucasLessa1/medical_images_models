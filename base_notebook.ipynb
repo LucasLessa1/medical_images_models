{
 "cells": [
  {
   "cell_type": "markdown",
   "metadata": {},
   "source": [
    "## Skin Lesions Dataset Description\n",
    "\n",
    "The dataset comprises various types of skin lesions, each falling under specific categories:\n",
    "\n",
    "- **Actinic Keratoses and Intraepithelial Carcinoma / Bowen's Disease (AKIEC)**\n",
    "- **Basal Cell Carcinoma (BCC)**\n",
    "- **Benign Keratosis-like Lesions**:\n",
    "  - *Solar Lentigines*\n",
    "  - *Seborrheic Keratoses*\n",
    "  - *Lichen-Planus like Keratoses (BKL)*\n",
    "- **Dermatofibroma (DF)**\n",
    "- **Melanoma (MEL)**\n",
    "- **Melanocytic Nevi (NV)**\n",
    "- **Vascular Lesions**:\n",
    "  - *Angiomas*\n",
    "  - *Angiokeratomas*\n",
    "  - *Pyogenic Granulomas*\n",
    "  - *Hemorrhage (VASC)*\n",
    "\n",
    "**Diagnosis Confirmation:**\n",
    "\n",
    "- Over 50% of lesions in this dataset are confirmed through **histopathology (Histo)**, serving as the ground truth for these cases.\n",
    "- For the remaining cases, confirmation methods include:\n",
    "  - *Follow-up examination (Follow_Up)*\n",
    "  - *Expert Consensus (Consensus)*\n",
    "  - *Confirmation by In-Vivo Confocal Microscopy (Confocal)*\n",
    "\n",
    "Each lesion might have multiple associated images, allowing for tracking via the `lesion_id` column within the `HAM10000_metadata` file.\n",
    "\n",
    "This diverse dataset contains various types of skin lesions, each categorized and confirmed through different diagnostic approaches, contributing to a comprehensive resource for research and analysis.\n"
   ]
  },
  {
   "cell_type": "code",
   "execution_count": 1,
   "metadata": {},
   "outputs": [],
   "source": [
    "labels_dict = {\n",
    "    'akiec': \"Actinic Keratoses and Intraepithelial Carcinoma / Bowen's Disease (AKIEC)\",\n",
    "    'bcc': \"Basal Cell Carcinoma (BCC)\",\n",
    "    'bkl': \"Benign Keratosis-like Lesions\",\n",
    "    'df': \"Dermatofibroma (DF)\",\n",
    "    'mel': \"Melanoma (MEL)\",\n",
    "    'nv': \"Melanocytic Nevi (NV)\",\n",
    "    'vasc': \"Vascular Lesions\",\n",
    "    'histo': \"Confirmed through Histopathology (Histo)\",\n",
    "    'follow_up': \"Follow-up examination (Follow_Up)\",\n",
    "    'consensus': \"Expert Consensus (Consensus)\",\n",
    "    'confocal': \"Confirmation by In-Vivo Confocal Microscopy (Confocal)\"\n",
    "}\n"
   ]
  },
  {
   "cell_type": "code",
   "execution_count": 2,
   "metadata": {},
   "outputs": [],
   "source": [
    "labels = ['akiec', 'bcc', 'bkl', 'df', 'mel', 'nv', 'vasc']"
   ]
  },
  {
   "cell_type": "markdown",
   "metadata": {},
   "source": [
    "# Imports"
   ]
  },
  {
   "cell_type": "code",
   "execution_count": 3,
   "metadata": {},
   "outputs": [],
   "source": [
    "import os  \n",
    "import glob\n",
    "import sklearn\n",
    "from sklearn.model_selection import train_test_split\n",
    "import pandas as pd\n",
    "from sklearn.metrics import accuracy_score, precision_score, recall_score, f1_score, confusion_matrix\n",
    "from sklearn.metrics import multilabel_confusion_matrix\n",
    "\n",
    "\n",
    "import PIL \n",
    "import random\n",
    "import numpy as np\n",
    "import matplotlib.pyplot as plt \n",
    "\n",
    "from tool_preprocessing import *\n",
    "# from models import *\n",
    "# import torch\n",
    "# import torch.nn as nn\n",
    "# import torchvision.models as models\n",
    "# from efficientnet_pytorch import EfficientNet\n",
    "# from torchinfo import summary \n",
    "\n",
    "# import torch.optim as optim\n",
    "# from IPython.display import Image\n",
    "# from torch.utils.data import DataLoader, Dataset\n",
    "\n",
    "# from torchvision.datasets import ImageFolder\n",
    "# from torchvision.transforms import transforms\n",
    "# import torch.nn.functional as F\n",
    "\n",
    "# import pydicom\n",
    "# from PIL import Image\n",
    "\n",
    "# import cv2"
   ]
  },
  {
   "cell_type": "markdown",
   "metadata": {},
   "source": [
    "# Preprocessing"
   ]
  },
  {
   "cell_type": "markdown",
   "metadata": {},
   "source": [
    "In this notebook, labels are initially considered as categorical."
   ]
  },
  {
   "cell_type": "markdown",
   "metadata": {},
   "source": [
    "## Manual Part"
   ]
  },
  {
   "cell_type": "markdown",
   "metadata": {},
   "source": [
    "If the images are organized in the folders of each label, the following flag must be True"
   ]
  },
  {
   "cell_type": "code",
   "execution_count": 4,
   "metadata": {},
   "outputs": [],
   "source": [
    "flag_folder_sep = True"
   ]
  },
  {
   "cell_type": "code",
   "execution_count": 5,
   "metadata": {},
   "outputs": [],
   "source": [
    "base_path = 'C:/Users/lucas/OneDrive - unb.br/Documents/UnB/Semestres-ENE/TCC/COVID_Dataset_original'\n",
    "# base_path = 'C:/Users/lucas/OneDrive - unb.br/Documents/UnB/Semestres-ENE/TCC/The HAM10000 dataset'"
   ]
  },
  {
   "cell_type": "code",
   "execution_count": 6,
   "metadata": {},
   "outputs": [
    {
     "name": "stdout",
     "output_type": "stream",
     "text": [
      "Is equal\n",
      "Is equal\n",
      "Is equal\n",
      "Is equal\n",
      "Is equal\n",
      "Is equal\n",
      "Label 'COVID' is not equal. Expected - 361, Actual - 362\n",
      "Is equal\n",
      "Label 'Normal' is not equal. Expected - 1019, Actual - 1020\n",
      "Label 'Lung_Opacity' is not equal. Expected - 601, Actual - 602\n",
      "Label 'COVID' is not equal. Expected - 361, Actual - 362\n",
      "Label 'Viral_Pneumonia' is not equal. Expected - 134, Actual - 135\n"
     ]
    }
   ],
   "source": [
    "if flag_folder_sep :\n",
    "    label_column = 'label'\n",
    "    train_df, test_df, val_df  = make_dataset_by_folder(base_path=base_path, label_column=label_column)\n",
    "\n",
    "else:\n",
    "    \n",
    "    path_train_df = f'{base_path}/HAM10000_metadata'\n",
    "    path_test_df = f'{base_path}/test.csv'\n",
    "    \n",
    "    path_train = f\"{base_path}/treino\"\n",
    "    path_test = f\"{base_path}/test\"\n",
    "    \n",
    "    paths_image = [path_train, path_test]\n",
    "    paths_df = [path_train_df, path_test_df]\n",
    "    label_column = 'dx'\n",
    "    \n",
    "    train_df, test_df, val_df = make_dataset_by_df(paths_image, paths_df, label_column=label_column)\n",
    "    \n",
    "    "
   ]
  },
  {
   "cell_type": "markdown",
   "metadata": {},
   "source": [
    "## Analysis"
   ]
  },
  {
   "cell_type": "markdown",
   "metadata": {},
   "source": [
    "### Train"
   ]
  },
  {
   "cell_type": "code",
   "execution_count": 7,
   "metadata": {},
   "outputs": [],
   "source": [
    "# image_analysis_train = image_analysis(train_df)"
   ]
  },
  {
   "cell_type": "markdown",
   "metadata": {},
   "source": [
    "Smallest pixel value: 0\n",
    "\n",
    "Largest pixel value: 255\n",
    "\n",
    "Total images processed: 10015\n",
    "\n",
    "Channel Statistics:\n",
    "Channel 'R':\n",
    "  - Average: 194.6979202056175\n",
    "  - Standard Deviation: 22.85509458222392\n",
    "Channel 'G':\n",
    "  - Average: 139.26262746509866\n",
    "  - Standard Deviation: 30.1684115555478\n",
    "Channel 'B':\n",
    "  - Average: 145.4852413568536\n",
    "  - Standard Deviation: 33.90319049131724"
   ]
  },
  {
   "cell_type": "code",
   "execution_count": 8,
   "metadata": {},
   "outputs": [],
   "source": [
    "train_df = check_images_existence(train_df, path_column='path')"
   ]
  },
  {
   "cell_type": "code",
   "execution_count": 9,
   "metadata": {},
   "outputs": [
    {
     "name": "stdout",
     "output_type": "stream",
     "text": [
      "Total number of images: 16930\n",
      "Number of unique labels: 4\n",
      "Label 'Normal' has 8153 images.\n",
      "Label 'Lung_Opacity' has 4809 images.\n",
      "Label 'COVID' has 2892 images.\n",
      "Label 'Viral_Pneumonia' has 1076 images.\n"
     ]
    }
   ],
   "source": [
    "dict_df_train = get_label_counts_and_print(train_df, label_column=label_column)\n",
    "# shapes_train = analyze_image_shapes(train_df, min_shape=(800, 800), path_column='path')"
   ]
  },
  {
   "cell_type": "markdown",
   "metadata": {},
   "source": [
    "### Test"
   ]
  },
  {
   "cell_type": "code",
   "execution_count": 10,
   "metadata": {},
   "outputs": [],
   "source": [
    "# image_analysis_test = image_analysis(test_df)"
   ]
  },
  {
   "cell_type": "markdown",
   "metadata": {},
   "source": [
    "Smallest pixel value: 0\n",
    "\n",
    "Largest pixel value: 255\n",
    "\n",
    "Total images processed: 1511\n",
    "\n",
    "Channel Statistics:\n",
    "Channel 'R':\n",
    "  - Average: 193.96235187636344\n",
    "  - Standard Deviation: 24.606448726550262\n",
    "Channel 'G':\n",
    "  - Average: 141.7550379243572\n",
    "  - Standard Deviation: 31.9625774054364\n",
    "Channel 'B':\n",
    "  - Average: 147.87214814814814\n",
    "  - Standard Deviation: 35.78649271231254"
   ]
  },
  {
   "cell_type": "code",
   "execution_count": 11,
   "metadata": {},
   "outputs": [],
   "source": [
    "test_df = check_images_existence(test_df, path_column='path')"
   ]
  },
  {
   "cell_type": "code",
   "execution_count": 12,
   "metadata": {},
   "outputs": [
    {
     "name": "stdout",
     "output_type": "stream",
     "text": [
      "Total number of images: 2116\n",
      "Number of unique labels: 4\n",
      "Label 'Normal' has 1019 images.\n",
      "Label 'Lung_Opacity' has 601 images.\n",
      "Label 'COVID' has 362 images.\n",
      "Label 'Viral_Pneumonia' has 134 images.\n",
      "Average image shape - Height: 299.0, Width: 299.0\n",
      "Number of images with shape smaller than (461, 601): 2116\n"
     ]
    }
   ],
   "source": [
    "dict_df_test = get_label_counts_and_print(test_df, label_column=label_column)\n",
    "shapes_test = analyze_image_shapes(test_df, min_shape=(461, 601), path_column='path')"
   ]
  },
  {
   "cell_type": "markdown",
   "metadata": {},
   "source": [
    "### Validation"
   ]
  },
  {
   "cell_type": "code",
   "execution_count": 13,
   "metadata": {},
   "outputs": [],
   "source": [
    "# image_analysis_val = image_analysis(val_df)"
   ]
  },
  {
   "cell_type": "markdown",
   "metadata": {},
   "source": [
    "Smallest pixel value: 0\n",
    "\n",
    "Largest pixel value: 255\n",
    "\n",
    "Total images processed: 1005\n",
    "\n",
    "Channel Statistics:\n",
    "Channel 'R':\n",
    "  - Average: 194.84180818500093\n",
    "  - Standard Deviation: 23.428856516708883\n",
    "Channel 'G':\n",
    "  - Average: 139.9250088557214\n",
    "  - Standard Deviation: 30.539483110296192\n",
    "Channel 'B':\n",
    "  - Average: 146.21765087525336\n",
    "  - Standard Deviation: 34.290640143609394"
   ]
  },
  {
   "cell_type": "code",
   "execution_count": 14,
   "metadata": {},
   "outputs": [],
   "source": [
    "val_df = check_images_existence(val_df, path_column='path')"
   ]
  },
  {
   "cell_type": "code",
   "execution_count": 15,
   "metadata": {},
   "outputs": [
    {
     "name": "stdout",
     "output_type": "stream",
     "text": [
      "Total number of images: 2119\n",
      "Number of unique labels: 4\n",
      "Label 'Normal' has 1020 images.\n",
      "Label 'Lung_Opacity' has 602 images.\n",
      "Label 'COVID' has 362 images.\n",
      "Label 'Viral_Pneumonia' has 135 images.\n",
      "Average image shape - Height: 299.0, Width: 299.0\n",
      "Number of images with shape smaller than (461, 601): 2119\n"
     ]
    }
   ],
   "source": [
    "dict_df_val = get_label_counts_and_print(val_df, label_column=label_column)\n",
    "shapes_val = analyze_image_shapes(val_df, min_shape=(461, 601), path_column='path')"
   ]
  }
 ],
 "metadata": {
  "kernelspec": {
   "display_name": "base",
   "language": "python",
   "name": "python3"
  },
  "language_info": {
   "codemirror_mode": {
    "name": "ipython",
    "version": 3
   },
   "file_extension": ".py",
   "mimetype": "text/x-python",
   "name": "python",
   "nbconvert_exporter": "python",
   "pygments_lexer": "ipython3",
   "version": "3.9.12"
  }
 },
 "nbformat": 4,
 "nbformat_minor": 2
}
